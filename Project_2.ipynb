{
  "cells": [
    {
      "cell_type": "markdown",
      "metadata": {
        "id": "9cAgMS7hqLs_"
      },
      "source": [
        "# Part 1 - Sentence Decoding "
      ]
    },
    {
      "cell_type": "markdown",
      "metadata": {
        "id": "TAn4SjVfqTLp"
      },
      "source": [
        "## Analyze with word2vec embeddings"
      ]
    },
    {
      "cell_type": "markdown",
      "metadata": {
        "id": "qG1Ig0tfxwo1"
      },
      "source": [
        "### Get Word2vec Results"
      ]
    },
    {
      "cell_type": "code",
      "execution_count": 1,
      "metadata": {
        "colab": {
          "base_uri": "https://localhost:8080/"
        },
        "id": "RwgOUIetGxAF",
        "outputId": "d17494fe-2282-43c4-ba82-1f03084d48b8"
      },
      "outputs": [],
      "source": [
        "# # Download and extract the data and learn_decoder.py\n",
        "# !wget --load-cookies /tmp/cookies.txt \"https://docs.google.com/uc?export=download&confirm=$(wget --quiet --save-cookies /tmp/cookies.txt --keep-session-cookies --no-check-certificate 'https://docs.google.com/uc?export=download&id=1xZaorRH-xxjfochvSesAhOTUg82_Xq56' -O- | sed -rn 's/.*confirm=([0-9A-Za-z_]+).*/\\1\\n/p')&id=1xZaorRH-xxjfochvSesAhOTUg82_Xq56\" -O files.zip && rm -rf /tmp/cookies.txt\n",
        "# !unzip files.zip\n",
        "# !rm files.zip"
      ]
    },
    {
      "cell_type": "code",
      "execution_count": null,
      "metadata": {
        "id": "Liosd9lWBdQI"
      },
      "outputs": [],
      "source": [
        "import numpy as np\n",
        "from gensim import downloader\n",
        "\n",
        "#Let's load the functions from learn_decoder.py\n",
        "from learn_decoder import *\n",
        "\n",
        "#and the data\n",
        "data = read_matrix(\"imaging_data.csv\", sep=\",\") \n",
        "concepts = np.genfromtxt('stimuli_180concepts.txt', dtype=np.dtype('U')) #The names of the 180 concepts"
      ]
    },
    {
      "cell_type": "code",
      "execution_count": null,
      "metadata": {
        "colab": {
          "base_uri": "https://localhost:8080/"
        },
        "id": "cHk_FBID7NAM",
        "outputId": "d4c4f94d-1512-46cf-cc7f-06e9a7f01733"
      },
      "outputs": [
        {
          "name": "stdout",
          "output_type": "stream",
          "text": [
            "[==================================================] 100.0% 1662.8/1662.8MB downloaded\n"
          ]
        }
      ],
      "source": [
        "embedding_model = downloader.load(\"word2vec-google-news-300\")"
      ]
    },
    {
      "cell_type": "code",
      "execution_count": null,
      "metadata": {
        "colab": {
          "base_uri": "https://localhost:8080/"
        },
        "id": "vfrx__Ue7Kz0",
        "outputId": "b88b366d-4311-417b-bd1e-ffe5b4a689bd"
      },
      "outputs": [
        {
          "name": "stdout",
          "output_type": "stream",
          "text": [
            "(6, 'argumentatively') is not exist in word2vec dict keys\n"
          ]
        }
      ],
      "source": [
        "vectors = np.zeros([180, 300])\n",
        "for i, word in enumerate(concepts):\n",
        "  if word in embedding_model.key_to_index.keys():\n",
        "    vectors[i] = embedding_model.key_to_index[word]\n",
        "  else:\n",
        "    print(f\"{i, word} is not exist in word2vec dict keys\")"
      ]
    },
    {
      "cell_type": "code",
      "execution_count": null,
      "metadata": {
        "id": "fxN0sYruSw0w"
      },
      "outputs": [],
      "source": [
        "vectors[6] = embedding_model.key_to_index[\"argumentative\"]"
      ]
    },
    {
      "cell_type": "code",
      "execution_count": null,
      "metadata": {
        "id": "X5uAYpi2S_OI"
      },
      "outputs": [],
      "source": [
        "# Saving the array\n",
        "np.savetxt(\"vectors_by_word2vec.csv\", vectors, delimiter=\",\")"
      ]
    },
    {
      "cell_type": "code",
      "execution_count": null,
      "metadata": {
        "id": "pgNmw6AEpWnb"
      },
      "outputs": [],
      "source": [
        "# Reading the csv into an array\n",
        "vectors = np.genfromtxt(\"vectors_by_word2vec.csv\", delimiter=\",\")"
      ]
    },
    {
      "cell_type": "code",
      "execution_count": null,
      "metadata": {
        "colab": {
          "base_uri": "https://localhost:8080/"
        },
        "id": "CRI_G2E3jWIb",
        "outputId": "1bbcae0c-b716-46e5-ab3c-c1cde4d15d90"
      },
      "outputs": [
        {
          "data": {
            "text/plain": [
              "numpy.ndarray"
            ]
          },
          "execution_count": 13,
          "metadata": {},
          "output_type": "execute_result"
        }
      ],
      "source": [
        "type(data)"
      ]
    },
    {
      "cell_type": "markdown",
      "metadata": {
        "id": "dXiqBImh7JoS"
      },
      "source": [
        "#### Calc M, Ranks and Accuracy"
      ]
    },
    {
      "cell_type": "code",
      "execution_count": null,
      "metadata": {
        "id": "yMtlTgG5EdTb"
      },
      "outputs": [],
      "source": [
        "def cosine_similarity(x: np.ndarray, y: np.ndarray) -> float:\n",
        "  similarity = x.dot(y) / (np.linalg.norm(x) * np.linalg.norm(y))\n",
        "  return(similarity) ## TODO: replace this with an implementation of cosine similarity.\n",
        "  \n",
        "def get_rank(pred_vec, vec_index, test_vectors, train_vectors):\n",
        "  simlarity_dict = {}\n",
        "  all_vectors = np.concatenate((test_vectors, train_vectors), axis=0)\n",
        "\n",
        "  for j, test_vec in enumerate(all_vectors):\n",
        "    sim = cosine_similarity(pred_vec, test_vec)\n",
        "    simlarity_dict[j] = sim\n",
        "  sorted_sim = sorted(simlarity_dict.items(), key=lambda x:x[1], reverse=True)\n",
        "\n",
        "  for rank, (test_train_index, sim) in enumerate(sorted_sim):\n",
        "    if test_train_index == vec_index:\n",
        "      return(rank + 1)\n",
        "\n",
        "import random\n",
        "\n",
        "def rank_based_accuracy(train_data, test_data, train_vectors, test_vectors, test_idx):\n",
        "  train_M = learn_decoder(train_data, train_vectors)\n",
        "  pred_vectors = np.matmul(test_data, train_M)\n",
        "  rank_list = []\n",
        "  poor_rank_idx = []\n",
        "  high_rank_idx = []\n",
        "  extremely_high_idx = []\n",
        "  for vec_index, pred_vec in enumerate(pred_vectors):\n",
        "    rank = get_rank(pred_vec, vec_index, test_vectors, train_vectors)\n",
        "    rank_list.append(rank)\n",
        "\n",
        "    original_idx = test_idx[vec_index]\n",
        "    if rank >= 165:\n",
        "      poor_rank_idx.append(original_idx)\n",
        "    if rank <= 15:\n",
        "      high_rank_idx.append(original_idx)\n",
        "    if rank <= 5:\n",
        "      extremely_high_idx.append(original_idx)\n",
        "\n",
        "  print(f\"{rank_list=}\")\n",
        "  accuracy = np.mean(rank_list)\n",
        "  return accuracy, poor_rank_idx, high_rank_idx, extremely_high_idx\n",
        "\n",
        "def main(data, k=18):\n",
        "  random.seed(42)\n",
        "  #split the data\n",
        "  group_size = int(data.shape[0]/k)\n",
        "  all_idx = list(range(data.shape[0]))\n",
        "  random.shuffle(all_idx)\n",
        "  groups = [all_idx[i:i+group_size] for i in range(0, len(all_idx), group_size)]\n",
        "  # print(groups)\n",
        "\n",
        "  accuracy_list = []\n",
        "  all_poor_idx = []\n",
        "  all_high_idx = []\n",
        "  all_extremely_high_idx = []\n",
        "\n",
        "  for test_idx in groups:\n",
        "    # print(\"-----\")\n",
        "    # print(f\"{test_idx=}\")\n",
        "    train_idx = list(set(all_idx) - set(test_idx))\n",
        "    test_data = np.take(data, test_idx, axis=0)\n",
        "    train_data = np.take(data, train_idx, axis=0)\n",
        "    test_vectors = np.take(vectors, test_idx, axis=0)\n",
        "    train_vectors = np.take(vectors, train_idx, axis=0)\n",
        "\n",
        "    print(\"-----\")\n",
        "    accuracy, poor_rank_idx, high_rank_idx, extremely_high_idx = rank_based_accuracy(train_data, test_data, train_vectors, test_vectors, test_idx)\n",
        "\n",
        "    accuracy_list.append(round(accuracy, 3))\n",
        "    all_poor_idx = all_poor_idx + poor_rank_idx\n",
        "    all_high_idx = all_high_idx + high_rank_idx\n",
        "    all_extremely_high_idx = all_extremely_high_idx + extremely_high_idx\n",
        "\n",
        "\n",
        "  print(f\"{accuracy_list=}\")\n",
        "  print(f\"avg accuracy over all data: {round(np.mean(accuracy_list), 3)}\")\n",
        "  return accuracy_list, all_poor_idx, all_high_idx, all_extremely_high_idx"
      ]
    },
    {
      "cell_type": "markdown",
      "metadata": {
        "id": "ludcVO921UER"
      },
      "source": [
        "### Print results"
      ]
    },
    {
      "cell_type": "code",
      "execution_count": null,
      "metadata": {
        "colab": {
          "base_uri": "https://localhost:8080/"
        },
        "id": "f_JRIaSF5NyD",
        "outputId": "65685bd0-a2ba-4f9c-b8ab-05e2ca6e0e3b"
      },
      "outputs": [
        {
          "name": "stdout",
          "output_type": "stream",
          "text": [
            "-----\n",
            "rank_list=[23, 119, 34, 164, 124, 5, 70, 11, 2, 124]\n",
            "-----\n",
            "rank_list=[100, 166, 26, 112, 108, 113, 48, 68, 173, 111]\n",
            "-----\n",
            "rank_list=[114, 75, 31, 180, 91, 167, 39, 18, 80, 164]\n",
            "-----\n",
            "rank_list=[30, 132, 121, 1, 126, 143, 149, 10, 92, 9]\n",
            "-----\n",
            "rank_list=[68, 53, 97, 92, 115, 84, 30, 81, 31, 114]\n",
            "-----\n",
            "rank_list=[142, 95, 37, 40, 92, 133, 147, 99, 147, 139]\n",
            "-----\n",
            "rank_list=[23, 23, 42, 162, 137, 64, 149, 106, 163, 10]\n",
            "-----\n",
            "rank_list=[30, 30, 167, 84, 53, 27, 75, 88, 49, 65]\n",
            "-----\n",
            "rank_list=[56, 113, 108, 122, 12, 143, 42, 172, 63, 73]\n",
            "-----\n",
            "rank_list=[5, 88, 114, 29, 11, 161, 109, 93, 76, 15]\n",
            "-----\n",
            "rank_list=[124, 50, 163, 72, 75, 3, 91, 171, 160, 93]\n",
            "-----\n",
            "rank_list=[135, 8, 26, 52, 3, 100, 20, 75, 48, 169]\n",
            "-----\n",
            "rank_list=[135, 91, 92, 129, 29, 170, 80, 2, 119, 27]\n",
            "-----\n",
            "rank_list=[12, 92, 122, 25, 22, 52, 67, 48, 47, 7]\n",
            "-----\n",
            "rank_list=[68, 31, 154, 92, 86, 76, 133, 38, 140, 175]\n",
            "-----\n",
            "rank_list=[147, 161, 80, 176, 174, 161, 96, 7, 111, 80]\n",
            "-----\n",
            "rank_list=[36, 104, 161, 125, 37, 66, 11, 132, 8, 149]\n",
            "-----\n",
            "rank_list=[36, 149, 103, 121, 60, 81, 33, 29, 168, 131]\n",
            "accuracy_list=[67.6, 102.5, 95.9, 81.3, 76.5, 107.1, 87.9, 66.8, 90.4, 70.1, 100.2, 63.6, 87.4, 49.4, 99.3, 119.3, 82.9, 91.1]\n",
            "avg accuracy over all data: 85.517\n"
          ]
        }
      ],
      "source": [
        "accuracy_list, all_poor_idx, all_high_idx, all_extremely_high_idx = main(data, k=18)"
      ]
    },
    {
      "cell_type": "markdown",
      "metadata": {
        "id": "1xtgggdRxjXH"
      },
      "source": [
        "### Plot avg accuracy by fold"
      ]
    },
    {
      "cell_type": "code",
      "execution_count": null,
      "metadata": {
        "colab": {
          "base_uri": "https://localhost:8080/",
          "height": 472
        },
        "id": "Z4HHdj5xIRnH",
        "outputId": "9ab7e191-6a56-4226-d01e-8e740337351b"
      },
      "outputs": [
        {
          "data": {
            "image/png": "[encoded data removed]",
            "text/plain": [
              "<Figure size 640x480 with 1 Axes>"
            ]
          },
          "metadata": {},
          "output_type": "display_data"
        }
      ],
      "source": [
        "import matplotlib.pyplot as plt\n",
        "\n",
        "plt.bar(list(range(1,19)), accuracy_list)\n",
        "plt.title(\"averaged accuracy score by fold\")\n",
        "plt.xticks(list(range(1,19)))\n",
        "plt.xlabel(\"fold\")\n",
        "plt.ylabel(\"avg accuracy\")\n",
        "plt.show()"
      ]
    },
    {
      "cell_type": "markdown",
      "metadata": {
        "id": "X9mgvNuCxnX2"
      },
      "source": [
        "### Print high and low ranked concepts"
      ]
    },
    {
      "cell_type": "code",
      "execution_count": null,
      "metadata": {
        "colab": {
          "base_uri": "https://localhost:8080/"
        },
        "id": "MMtowr89A-U9",
        "outputId": "49c5de8c-7e0c-40e1-81cb-b2e53c8fd29b"
      },
      "outputs": [
        {
          "name": "stdout",
          "output_type": "stream",
          "text": [
            "Poor rank concepts names: (rank>=165)\n",
            "\n",
            "clothes\n",
            "usable\n",
            "left\n",
            "sin\n",
            "philosophy\n",
            "money\n",
            "invisible\n",
            "news\n",
            "charming\n",
            "typical\n",
            "sound\n",
            "personality\n",
            "charity\n"
          ]
        }
      ],
      "source": [
        "print(\"Poor rank concepts names: (rank>=165)\\n\")\n",
        "for poor_idx in all_poor_idx:\n",
        "  print(concepts[poor_idx])"
      ]
    },
    {
      "cell_type": "code",
      "execution_count": null,
      "metadata": {
        "colab": {
          "base_uri": "https://localhost:8080/"
        },
        "id": "ggDTSw5PB8m0",
        "outputId": "8e65ecc5-c420-455b-cba6-931dc571fb21"
      },
      "outputs": [
        {
          "name": "stdout",
          "output_type": "stream",
          "text": [
            "Extremely high rank concepts names:  (rank<=5) \n",
            "\n",
            "cook\n",
            "elegance\n",
            "mountain\n",
            "sexy\n",
            "king\n",
            "illness\n",
            "sell\n"
          ]
        }
      ],
      "source": [
        "print(\"Extremely high rank concepts names:  (rank<=5) \\n\")\n",
        "for high_idx in all_extremely_high_idx:\n",
        "  print(concepts[high_idx])"
      ]
    },
    {
      "cell_type": "code",
      "execution_count": null,
      "metadata": {
        "colab": {
          "base_uri": "https://localhost:8080/"
        },
        "id": "faOckTIwBcHO",
        "outputId": "7b135f43-e9f0-4a13-8469-1d6c25861d6e"
      },
      "outputs": [
        {
          "name": "stdout",
          "output_type": "stream",
          "text": [
            "High rank concepts names:  (rank<=15) \n",
            "\n",
            "cook\n",
            "prison\n",
            "elegance\n",
            "mountain\n",
            "ignorance\n",
            "ability\n",
            "read\n",
            "play\n",
            "sexy\n",
            "word\n",
            "broken\n",
            "king\n",
            "road\n",
            "illness\n",
            "sell\n",
            "laugh\n",
            "land\n",
            "useless\n",
            "art\n",
            "music\n"
          ]
        }
      ],
      "source": [
        "print(\"High rank concepts names:  (rank<=15) \\n\")\n",
        "for high_idx in all_high_idx:\n",
        "  print(concepts[high_idx])"
      ]
    },
    {
      "cell_type": "code",
      "execution_count": null,
      "metadata": {
        "id": "CB0_KrtwVKv3"
      },
      "outputs": [],
      "source": [
        "percenatge_excellent_ranked_conceps = round(len(all_extremely_high_idx) * 100 / 180) \n",
        "percentage_good_ranked_conceps = round(len(all_high_idx) * 100 / 180) \n",
        "percentage_bad_ranked_concepts = round(len(all_poor_idx) * 100 / 180) "
      ]
    },
    {
      "cell_type": "code",
      "execution_count": null,
      "metadata": {
        "colab": {
          "base_uri": "https://localhost:8080/"
        },
        "id": "okU_mG0tVMOH",
        "outputId": "492c7573-1f43-4a52-bc69-9e55200d6cba"
      },
      "outputs": [
        {
          "name": "stdout",
          "output_type": "stream",
          "text": [
            "percenatge_excellent_ranked_conceps=4%\n",
            "percentage_good_ranked_conceps=11%\n",
            "percentage_bad_ranked_concepts=7%\n"
          ]
        }
      ],
      "source": [
        "print(f\"{percenatge_excellent_ranked_conceps=}%\")\n",
        "print(f\"{percentage_good_ranked_conceps=}%\")\n",
        "print(f\"{percentage_bad_ranked_concepts=}%\")"
      ]
    },
    {
      "cell_type": "markdown",
      "metadata": {
        "id": "ktUzBFP2uP0G"
      },
      "source": [
        "### Compare Glove and Word2vec Results"
      ]
    },
    {
      "cell_type": "markdown",
      "metadata": {
        "id": "0-vrEZN7qtcE"
      },
      "source": [
        "Glove results:\n",
        "* mean rank accuracy by all folds: 61.4\n",
        "* percenatge_excellent_ranked_conceps=4%\n",
        "* percentage_good_ranked_conceps=17%\n",
        "* percentage_bad_ranked_concepts=3%\n",
        "\n",
        "Word2Vec results:\n",
        "* mean rank accuracy by all folds: 85.5\n",
        "* percenatge_excellent_ranked_conceps=4%\n",
        "* percentage_good_ranked_conceps=11%\n",
        "* percentage_bad_ranked_concepts=7%\n",
        "\n",
        "--> With Glove we get better results: higher mean rank accuracy over all concepts (61.4 vs 85.5, reminding that the lower the better) higher percentage of good ranked conceps (17% vs 11%) and lower percentage of bad ranked conceps (3% vs 7%)."
      ]
    },
    {
      "cell_type": "markdown",
      "metadata": {
        "id": "8wfxvJb7uZ68"
      },
      "source": [
        "\n",
        "----\n",
        "Glove best ranked concepts (rank<=15):\n",
        "* do, team, left, time, ability, picture, big, quality, crazy, skin, show, lady, food, play, money, feeling, hair, road, dinner, laugh, great, extremely, light, damage, stupid, relationship, dog, music, shape, construction, fish.\n",
        "\n",
        "Word2Vec best ranked concepts (rank<=15):\n",
        "*  cook, prison, elegance, mountain, ignorance, ability, read, play, sexy, word, broken, king, road, illness, sell, laugh, land, useless, art,music.\n",
        "\n",
        "--> In both embeddings we get high rank to concepts that has \"simple\" meanings where most of the concepts are common words, most of them nouns (lady, dog, dinner, road, king etc.). somer concepts are more ambigious and we were surprised to see them in the top list, like ability, elegance and useless. But most of the words are simple and we were not surprised to see them in thosr lists.\n"
      ]
    },
    {
      "cell_type": "markdown",
      "metadata": {
        "id": "F7x4SW5Oubeq"
      },
      "source": [
        "\n",
        "----\n",
        "Glove worse ranked concepts (rank>=165):\n",
        "* deceive, electron, applause, cockroach ,argumentatively\n",
        "\n",
        "Word2Vec worse ranked concepts (rank>=165):\n",
        "* clothes, usable, left, sin, philosophy, money, invisible, news, charming, typical, sound, personality, charity\n",
        "\n",
        "--> In both embeddings the concpets that got poor rank were words that might be less explicit and simple, like \"applause\", \"argumwntatively\", \"usable\", \"typical\". It make sense why such words are not decoded well, in comparison to very common and simple nouns like those we showed above."
      ]
    },
    {
      "cell_type": "markdown",
      "metadata": {
        "id": "74IDMIqdww_q"
      },
      "source": [
        "---\n",
        "Overall we can see that the Glove captures better the difference and the similaritirs of the concepts, so the decoding process was with more accurate results, than the results when using Word2Vec embeddings."
      ]
    },
    {
      "cell_type": "markdown",
      "metadata": {
        "id": "IJS5RhIOxQvN"
      },
      "source": [
        "## Pereire paper - similarities and differences between analyzes 1,2,3"
      ]
    },
    {
      "cell_type": "markdown",
      "metadata": {
        "id": "aw6jBkLrx1YN"
      },
      "source": []
    },
    {
      "cell_type": "markdown",
      "metadata": {
        "id": "wHqfLbD6x2OH"
      },
      "source": [
        "## Decode experiment 2 data, using Glove"
      ]
    },
    {
      "cell_type": "markdown",
      "metadata": {
        "id": "NS7o3q1IyGjK"
      },
      "source": [
        "### Get the Results"
      ]
    },
    {
      "cell_type": "markdown",
      "metadata": {
        "id": "vmNgSxYbyJmf"
      },
      "source": [
        "### Interpret Results"
      ]
    },
    {
      "cell_type": "code",
      "execution_count": null,
      "metadata": {
        "id": "W_wZl3pzwwQc"
      },
      "outputs": [],
      "source": []
    },
    {
      "cell_type": "markdown",
      "metadata": {
        "id": "OgMU7m9yx_hK"
      },
      "source": [
        "## Decode experiment 3 data, using Glove"
      ]
    },
    {
      "cell_type": "markdown",
      "metadata": {
        "id": "mGw65TkP1qR3"
      },
      "source": [
        "### EXP3 data"
      ]
    },
    {
      "cell_type": "markdown",
      "metadata": {
        "id": "7XzJfEDI8en0"
      },
      "source": [
        "#### unpack pickle"
      ]
    },
    {
      "cell_type": "code",
      "execution_count": null,
      "metadata": {
        "colab": {
          "base_uri": "https://localhost:8080/",
          "height": 204
        },
        "id": "jJUU5W6xycME",
        "outputId": "cbce9b8f-694e-4caa-87fd-c2629cf279f9"
      },
      "outputs": [
        {
          "ename": "UnpicklingError",
          "evalue": "ignored",
          "output_type": "error",
          "traceback": [
            "\u001b[0;31m---------------------------------------------------------------------------\u001b[0m",
            "\u001b[0;31mUnpicklingError\u001b[0m                           Traceback (most recent call last)",
            "\u001b[0;32m<ipython-input-1-4ebe24796622>\u001b[0m in \u001b[0;36m<cell line: 3>\u001b[0;34m()\u001b[0m\n\u001b[1;32m      2\u001b[0m \u001b[0;34m\u001b[0m\u001b[0m\n\u001b[1;32m      3\u001b[0m \u001b[0;32mwith\u001b[0m \u001b[0mopen\u001b[0m\u001b[0;34m(\u001b[0m\u001b[0;34m'EXP3.pkl'\u001b[0m\u001b[0;34m,\u001b[0m \u001b[0;34m'rb'\u001b[0m\u001b[0;34m)\u001b[0m \u001b[0;32mas\u001b[0m \u001b[0mf\u001b[0m\u001b[0;34m:\u001b[0m\u001b[0;34m\u001b[0m\u001b[0;34m\u001b[0m\u001b[0m\n\u001b[0;32m----> 4\u001b[0;31m     \u001b[0mexp3_data\u001b[0m \u001b[0;34m=\u001b[0m \u001b[0mpickle\u001b[0m\u001b[0;34m.\u001b[0m\u001b[0mload\u001b[0m\u001b[0;34m(\u001b[0m\u001b[0mf\u001b[0m\u001b[0;34m)\u001b[0m\u001b[0;34m\u001b[0m\u001b[0;34m\u001b[0m\u001b[0m\n\u001b[0m",
            "\u001b[0;31mUnpicklingError\u001b[0m: pickle data was truncated"
          ]
        }
      ],
      "source": [
        "import pickle\n",
        "\n",
        "with open('EXP3.pkl', 'rb') as f:\n",
        "    exp3_data = pickle.load(f)"
      ]
    },
    {
      "cell_type": "code",
      "execution_count": null,
      "metadata": {
        "colab": {
          "base_uri": "https://localhost:8080/"
        },
        "id": "W3dea7M-yxSU",
        "outputId": "93bc0cd7-916c-4950-c3b2-cf033599bbc2"
      },
      "outputs": [
        {
          "data": {
            "text/plain": [
              "dict_keys(['__header__', '__version__', '__globals__', 'keyPassageCategory', 'keyPassages', 'keySentences', 'labelsPassageCategory', 'labelsPassageForEachSentence', 'labelsSentences', 'meta', 'Fmridata'])"
            ]
          },
          "execution_count": 73,
          "metadata": {},
          "output_type": "execute_result"
        }
      ],
      "source": [
        "exp3_data.keys()"
      ]
    },
    {
      "cell_type": "code",
      "execution_count": null,
      "metadata": {
        "id": "9P1Gy0tHy2N9"
      },
      "outputs": [],
      "source": [
        "# keyPassageCategory - a list of all broad categories/topics \n",
        "# keyPassages - the names of the passages\n",
        "# keySentences - the sentences (same as in stimuli_243sentences.txt  ) \n",
        "# labelsPassageCategory - The category/topic’s id for each passage\n",
        "# labelsPassageForEachSentence - The passage’s ids for every sentence (each sentence comes from a specific passage. The id of each sentence in this list is the relevant passage’s id) \n",
        "# labelsSentences - The sentences’ ids\n",
        "# Fmridata - The fMRI data organized in a matrix contains 243 rows (each row= a sentence) and 185866 columns (each column = a different voxel).\n"
      ]
    },
    {
      "cell_type": "markdown",
      "metadata": {
        "id": "LC_HudVMzmjs"
      },
      "source": [
        "#### keyPassageCategory - a list of all broad categories/topics "
      ]
    },
    {
      "cell_type": "code",
      "execution_count": null,
      "metadata": {
        "colab": {
          "base_uri": "https://localhost:8080/"
        },
        "id": "MhL6DFKiy6-Z",
        "outputId": "b8227009-676d-4555-c460-84c29c9ea226"
      },
      "outputs": [
        {
          "data": {
            "text/plain": [
              "(24,\n",
              " array([array(['astronaut'], dtype='<U9'),\n",
              "        array(['beekeeping'], dtype='<U10'),\n",
              "        array(['blindness'], dtype='<U9'),\n",
              "        array(['bone_fracture'], dtype='<U13'),\n",
              "        array(['castle'], dtype='<U6'),\n",
              "        array(['computer_graphics'], dtype='<U17'),\n",
              "        array(['dreams'], dtype='<U6'), array(['gambling'], dtype='<U8'),\n",
              "        array(['hurricane'], dtype='<U9'),\n",
              "        array(['ice_cream'], dtype='<U9')], dtype=object))"
            ]
          },
          "execution_count": 50,
          "metadata": {},
          "output_type": "execute_result"
        }
      ],
      "source": [
        "keyPassageCategory = exp3_data[\"keyPassageCategory\"]\n",
        "len(keyPassageCategory[0]), keyPassageCategory[0][:10]"
      ]
    },
    {
      "cell_type": "markdown",
      "metadata": {
        "id": "I9IxkA5vzhJU"
      },
      "source": [
        "#### keyPassages - the names of the passages"
      ]
    },
    {
      "cell_type": "code",
      "execution_count": null,
      "metadata": {
        "colab": {
          "base_uri": "https://localhost:8080/"
        },
        "id": "K8Ev07J4zOFG",
        "outputId": "60d9bc5c-55f7-4a5f-da48-cfcaa0252fbd"
      },
      "outputs": [
        {
          "data": {
            "text/plain": [
              "(72,\n",
              " array([[array(['beekeeping'], dtype='<U10')],\n",
              "        [array(['beekeeping'], dtype='<U10')],\n",
              "        [array(['beekeeping'], dtype='<U10')],\n",
              "        [array(['dreams'], dtype='<U6')],\n",
              "        [array(['dreams'], dtype='<U6')],\n",
              "        [array(['dreams'], dtype='<U6')],\n",
              "        [array(['gambling'], dtype='<U8')],\n",
              "        [array(['gambling'], dtype='<U8')],\n",
              "        [array(['gambling'], dtype='<U8')],\n",
              "        [array(['hurricane'], dtype='<U9')]], dtype=object))"
            ]
          },
          "execution_count": 48,
          "metadata": {},
          "output_type": "execute_result"
        }
      ],
      "source": [
        "keyPassages = exp3_data[\"keyPassages\"]\n",
        "len(keyPassages), keyPassages[0:10]"
      ]
    },
    {
      "cell_type": "markdown",
      "metadata": {
        "id": "4GvmVJNXzprq"
      },
      "source": [
        "#### labelsPassageCategory - The category/topic’s id for each passage "
      ]
    },
    {
      "cell_type": "code",
      "execution_count": null,
      "metadata": {
        "colab": {
          "base_uri": "https://localhost:8080/"
        },
        "id": "u2ew-v1TzzPa",
        "outputId": "5745c5e6-b44e-4365-b384-8d0910b876ee"
      },
      "outputs": [
        {
          "data": {
            "text/plain": [
              "(72,\n",
              " array([[2],\n",
              "        [2],\n",
              "        [2],\n",
              "        [7],\n",
              "        [7],\n",
              "        [7],\n",
              "        [8],\n",
              "        [8],\n",
              "        [8],\n",
              "        [9]], dtype=uint8))"
            ]
          },
          "execution_count": 44,
          "metadata": {},
          "output_type": "execute_result"
        }
      ],
      "source": [
        "labelsPassageCategory = exp3_data[\"labelsPassageCategory\"]\n",
        "len(labelsPassageCategory), labelsPassageCategory[:10]"
      ]
    },
    {
      "cell_type": "markdown",
      "metadata": {
        "id": "PEMycNjP0BZI"
      },
      "source": [
        "#### labelsPassageForEachSentence - The passage’s ids for every sentence (each sentence comes from a specific passage. The id of each sentence in this list is the relevant passage’s id) "
      ]
    },
    {
      "cell_type": "code",
      "execution_count": null,
      "metadata": {
        "colab": {
          "base_uri": "https://localhost:8080/"
        },
        "id": "bm4-0bWo0Hco",
        "outputId": "38c91ea1-cffc-4770-81cd-63dbcd5d63df"
      },
      "outputs": [
        {
          "data": {
            "text/plain": [
              "(243,\n",
              " array([[1],\n",
              "        [1],\n",
              "        [1],\n",
              "        [1],\n",
              "        [2],\n",
              "        [2],\n",
              "        [2],\n",
              "        [2],\n",
              "        [3],\n",
              "        [3]], dtype=uint8))"
            ]
          },
          "execution_count": 43,
          "metadata": {},
          "output_type": "execute_result"
        }
      ],
      "source": [
        "labelsPassageForEachSentence = exp3_data[\"labelsPassageForEachSentence\"]\n",
        "len(labelsPassageForEachSentence), labelsPassageForEachSentence[:10]"
      ]
    },
    {
      "cell_type": "markdown",
      "metadata": {
        "id": "H9LN24vx0HAv"
      },
      "source": [
        "#### labelsSentences - The sentences’ ids"
      ]
    },
    {
      "cell_type": "code",
      "execution_count": null,
      "metadata": {
        "colab": {
          "base_uri": "https://localhost:8080/"
        },
        "id": "iNdCUsxS1B0X",
        "outputId": "4f5165d4-039e-4509-8a12-14078294937c"
      },
      "outputs": [
        {
          "data": {
            "text/plain": [
              "(243,\n",
              " array([[ 1],\n",
              "        [ 2],\n",
              "        [ 3],\n",
              "        [ 4],\n",
              "        [ 5],\n",
              "        [ 6],\n",
              "        [ 7],\n",
              "        [ 8],\n",
              "        [ 9],\n",
              "        [10]], dtype=uint8))"
            ]
          },
          "execution_count": 51,
          "metadata": {},
          "output_type": "execute_result"
        }
      ],
      "source": [
        "labelsSentences = exp3_data[\"labelsSentences\"]\n",
        "len(labelsSentences), labelsSentences[:10]"
      ]
    },
    {
      "cell_type": "markdown",
      "metadata": {
        "id": "z18FaU1t3jYY"
      },
      "source": [
        "#### keySentences"
      ]
    },
    {
      "cell_type": "code",
      "execution_count": null,
      "metadata": {
        "colab": {
          "base_uri": "https://localhost:8080/"
        },
        "id": "YQCnp9Am3kzA",
        "outputId": "9f967fdf-2ff8-40d0-9ecc-3fd3502aee36"
      },
      "outputs": [
        {
          "data": {
            "text/plain": [
              "(243,\n",
              " array([[array(['Beekeeping encourages the conservation of local habitats.'],\n",
              "               dtype='<U57')                                                 ],\n",
              "        [array([\"It is in every beekeeper's interest to conserve local plants that produce pollen.\"],\n",
              "               dtype='<U81')                                                                         ],\n",
              "        [array(['As a passive form of agriculture, it does not require that native vegetation be cleared to make way for crops.'],\n",
              "               dtype='<U110')                                                                                                     ],\n",
              "        [array(['Beekeepers also discourage the use of pesticides on crops, because they could kill the honeybees.'],\n",
              "               dtype='<U97')                                                                                         ]],\n",
              "       dtype=object))"
            ]
          },
          "execution_count": 59,
          "metadata": {},
          "output_type": "execute_result"
        }
      ],
      "source": [
        "keySentences = exp3_data[\"keySentences\"]\n",
        "len(keySentences), keySentences[:4]"
      ]
    },
    {
      "cell_type": "code",
      "execution_count": null,
      "metadata": {
        "colab": {
          "base_uri": "https://localhost:8080/"
        },
        "id": "89MUpNai30Wj",
        "outputId": "b0f2db83-9fc2-418e-cd97-38532d3d2361"
      },
      "outputs": [
        {
          "data": {
            "text/plain": [
              "(243, 1)"
            ]
          },
          "execution_count": 61,
          "metadata": {},
          "output_type": "execute_result"
        }
      ],
      "source": [
        "keySentences.shape"
      ]
    },
    {
      "cell_type": "code",
      "execution_count": null,
      "metadata": {
        "colab": {
          "base_uri": "https://localhost:8080/"
        },
        "id": "njUYnJPj3v8i",
        "outputId": "797fbdaa-221c-494f-f28e-7ed4ee024ae0"
      },
      "outputs": [
        {
          "data": {
            "text/plain": [
              "array([array(['Beekeeping encourages the conservation of local habitats.'],\n",
              "             dtype='<U57')                                                 ],\n",
              "      dtype=object)"
            ]
          },
          "execution_count": 60,
          "metadata": {},
          "output_type": "execute_result"
        }
      ],
      "source": [
        "keySentences[0]"
      ]
    },
    {
      "cell_type": "markdown",
      "metadata": {
        "id": "Z1ifn9OF3gjo"
      },
      "source": [
        "#### FMRI data"
      ]
    },
    {
      "cell_type": "code",
      "execution_count": null,
      "metadata": {
        "colab": {
          "base_uri": "https://localhost:8080/"
        },
        "id": "k_czcr9T2Mng",
        "outputId": "0704e73f-5020-4cc3-a682-d4ead138fc5b"
      },
      "outputs": [
        {
          "data": {
            "text/plain": [
              "(numpy.ndarray, (243, 185866))"
            ]
          },
          "execution_count": 56,
          "metadata": {},
          "output_type": "execute_result"
        }
      ],
      "source": [
        "Fmridata = exp3_data[\"Fmridata\"]\n",
        "type(Fmridata), Fmridata.shape"
      ]
    },
    {
      "cell_type": "markdown",
      "metadata": {
        "id": "sWWCo06s1fHQ"
      },
      "source": [
        "#### get data and concepts"
      ]
    },
    {
      "cell_type": "code",
      "execution_count": null,
      "metadata": {
        "colab": {
          "base_uri": "https://localhost:8080/",
          "height": 347
        },
        "id": "B1owhbh_1ev3",
        "outputId": "f56aabc5-5f53-41f0-e43c-7f1fa28b540e"
      },
      "outputs": [
        {
          "ename": "ModuleNotFoundError",
          "evalue": "ignored",
          "output_type": "error",
          "traceback": [
            "\u001b[0;31m---------------------------------------------------------------------------\u001b[0m",
            "\u001b[0;31mModuleNotFoundError\u001b[0m                       Traceback (most recent call last)",
            "\u001b[0;32m<ipython-input-1-aebaba65aa21>\u001b[0m in \u001b[0;36m<cell line: 5>\u001b[0;34m()\u001b[0m\n\u001b[1;32m      3\u001b[0m \u001b[0;34m\u001b[0m\u001b[0m\n\u001b[1;32m      4\u001b[0m \u001b[0;31m#Let's load the functions from learn_decoder.py\u001b[0m\u001b[0;34m\u001b[0m\u001b[0;34m\u001b[0m\u001b[0m\n\u001b[0;32m----> 5\u001b[0;31m \u001b[0;32mfrom\u001b[0m \u001b[0mlearn_decoder\u001b[0m \u001b[0;32mimport\u001b[0m \u001b[0;34m*\u001b[0m\u001b[0;34m\u001b[0m\u001b[0;34m\u001b[0m\u001b[0m\n\u001b[0m",
            "\u001b[0;31mModuleNotFoundError\u001b[0m: No module named 'learn_decoder'",
            "",
            "\u001b[0;31m---------------------------------------------------------------------------\u001b[0;32m\nNOTE: If your import is failing due to a missing package, you can\nmanually install dependencies using either !pip or !apt.\n\nTo view examples of installing some common dependencies, click the\n\"Open Examples\" button below.\n\u001b[0;31m---------------------------------------------------------------------------\u001b[0m\n"
          ]
        }
      ],
      "source": [
        "import numpy as np\n",
        "from gensim import downloader\n",
        "\n",
        "#Let's load the functions from learn_decoder.py\n",
        "from learn_decoder import *"
      ]
    },
    {
      "cell_type": "code",
      "execution_count": null,
      "metadata": {
        "id": "bDbA1Y_m8pQT"
      },
      "outputs": [],
      "source": [
        "fmri_data_exp3 = Fmridata \n",
        "vectors_exp3 = read_matrix(\"vectors_243sentences.GV42B300.average.txt\", sep=\" \")"
      ]
    },
    {
      "cell_type": "code",
      "execution_count": null,
      "metadata": {
        "id": "AuN5fjhF8vyQ"
      },
      "outputs": [],
      "source": [
        "fmri_data_exp1 = read_matrix(\"imaging_data.csv\", sep=\",\") \n",
        "vectors_exp1 = read_matrix(\"vectors_180concepts.GV42B300.txt\", sep=\" \")\n",
        "concepts_exp1 = np.genfromtxt('stimuli_180concepts.txt', dtype=np.dtype('U')) #The names of the 180 concepts"
      ]
    },
    {
      "cell_type": "code",
      "execution_count": null,
      "metadata": {
        "colab": {
          "base_uri": "https://localhost:8080/"
        },
        "id": "RRKzGNib4DJZ",
        "outputId": "72acf903-be66-4434-c90d-9f908c07f557"
      },
      "outputs": [
        {
          "data": {
            "text/plain": [
              "((243, 185866), (243, 300))"
            ]
          },
          "execution_count": 66,
          "metadata": {},
          "output_type": "execute_result"
        }
      ],
      "source": [
        "data.shape, vectors.shape"
      ]
    },
    {
      "cell_type": "markdown",
      "metadata": {
        "id": "yVrdfd784bKr"
      },
      "source": [
        "1. sentence (243)\n",
        "2. passage (72)\n",
        "3. topic (24)"
      ]
    },
    {
      "cell_type": "markdown",
      "metadata": {
        "id": "_Mp3BPEL7_Ki"
      },
      "source": [
        "### Decode functions"
      ]
    },
    {
      "cell_type": "code",
      "execution_count": null,
      "metadata": {
        "id": "bzoIOwhT9iG1"
      },
      "outputs": [],
      "source": [
        "# !!!! TODO: DEBUG BELOW !!!!"
      ]
    },
    {
      "cell_type": "code",
      "execution_count": null,
      "metadata": {
        "id": "UMeIGn2V78hB"
      },
      "outputs": [],
      "source": [
        "def cosine_similarity(x: np.ndarray, y: np.ndarray) -> float:\n",
        "  similarity = x.dot(y) / (np.linalg.norm(x) * np.linalg.norm(y))\n",
        "  return(similarity) ## TODO: replace this with an implementation of cosine similarity.\n",
        "  \n",
        "def get_rank(pred_vec, vec_index, test_vectors, train_vectors):\n",
        "  simlarity_dict = {}\n",
        "  all_vectors = np.concatenate((test_vectors, train_vectors), axis=0)\n",
        "\n",
        "  for j, test_vec in enumerate(all_vectors):\n",
        "    sim = cosine_similarity(pred_vec, test_vec)\n",
        "    simlarity_dict[j] = sim\n",
        "  sorted_sim = sorted(simlarity_dict.items(), key=lambda x:x[1], reverse=True)\n",
        "\n",
        "  for rank, (test_train_index, sim) in enumerate(sorted_sim):\n",
        "    if test_train_index == vec_index:\n",
        "      return(rank + 1)\n",
        "\n",
        "import random\n",
        "\n",
        "def rank_based_accuracy(train_data, test_data, train_vectors, test_vectors):\n",
        "  train_M = learn_decoder(train_data, train_vectors)\n",
        "  pred_vectors = np.matmul(test_data, train_M)\n",
        "  rank_list = []\n",
        "  poor_rank_idx = []\n",
        "  high_rank_idx = []\n",
        "  extremely_high_idx = []\n",
        "  for vec_index, pred_vec in enumerate(pred_vectors):\n",
        "    rank = get_rank(pred_vec, vec_index, test_vectors)\n",
        "    rank_list.append(rank)\n",
        "\n",
        "    original_idx = test_idx[vec_index]\n",
        "    if rank >= 165:\n",
        "      poor_rank_idx.append(original_idx)\n",
        "    if rank <= 15:\n",
        "      high_rank_idx.append(original_idx)\n",
        "    if rank <= 5:\n",
        "      extremely_high_idx.append(original_idx)\n",
        "\n",
        "  print(f\"{rank_list=}\")\n",
        "  accuracy = np.mean(rank_list)\n",
        "  return accuracy, poor_rank_idx, high_rank_idx, extremely_high_idx\n",
        "\n",
        "def train_and_test(train_data, test_data, train_vectors, test_vectors):\n",
        "  all_poor_idx = []\n",
        "  all_high_idx = []\n",
        "  all_extremely_high_idx = []\n",
        "\n",
        "  print(\"-----\")\n",
        "  accuracy, poor_rank_idx, high_rank_idx, extremely_high_idx = rank_based_accuracy(train_data, test_data, train_vectors, test_vectors)\n",
        "\n",
        "  print(f\"{accuracy_list=}\")\n",
        "  print(f\"avg accuracy over all data: {round(np.mean(accuracy_list), 3)}\")\n",
        "  return accuracy_list, poor_rank_idx, high_rank_idx, extremely_high_idx"
      ]
    },
    {
      "cell_type": "markdown",
      "metadata": {
        "id": "s8My_h_-4MZn"
      },
      "source": [
        "### Run Decoding and Evaluate"
      ]
    },
    {
      "cell_type": "code",
      "execution_count": null,
      "metadata": {
        "id": "8i-FwbKF8G4E"
      },
      "outputs": [],
      "source": [
        "accuracy_list, all_poor_idx, all_high_idx, all_extremely_high_idx = main(data, k=18)"
      ]
    },
    {
      "cell_type": "markdown",
      "metadata": {
        "id": "sFDjNCGeyP1c"
      },
      "source": [
        "### Interpret Results"
      ]
    },
    {
      "cell_type": "markdown",
      "metadata": {
        "id": "kVS75rms-cLO"
      },
      "source": [
        "Identify Topics with more or less seuccefull decoding"
      ]
    },
    {
      "cell_type": "code",
      "execution_count": null,
      "metadata": {
        "id": "wsjcxyYfyA6c"
      },
      "outputs": [],
      "source": []
    },
    {
      "cell_type": "markdown",
      "metadata": {
        "id": "iFT7MILy5Gl7"
      },
      "source": [
        "# Part 2 - Run and Analyze EXP2 with Contextualized Word Embedding Model"
      ]
    },
    {
      "cell_type": "markdown",
      "metadata": {
        "id": "ACkrBKcf5qye"
      },
      "source": [
        "using both original embedding in the parper (Glove) and the contextual embedding --> concat?? or just compare??"
      ]
    },
    {
      "cell_type": "code",
      "execution_count": null,
      "metadata": {
        "id": "-rc_4UjU5ZTE"
      },
      "outputs": [],
      "source": []
    },
    {
      "cell_type": "markdown",
      "metadata": {
        "id": "pIHTTOwr5aO1"
      },
      "source": [
        "# Part 2 - Build Brain Encoder"
      ]
    },
    {
      "cell_type": "markdown",
      "metadata": {
        "id": "BjqmC_tO6O7w"
      },
      "source": [
        "Instead of predicting sentence identities using neural\n",
        "signals (i.e., neural decoding), we will try to predict human neural signals from the\n",
        "embedding vectors representations of the sentences (neural encoding; you can read about neural encoder in Huth et al., 2016’s paper)."
      ]
    },
    {
      "cell_type": "markdown",
      "metadata": {
        "id": "LNMRICmt6KA8"
      },
      "source": [
        "### fit a separate linearregression model for each voxel "
      ]
    },
    {
      "cell_type": "code",
      "execution_count": null,
      "metadata": {
        "id": "J58DHJ4e5hbo"
      },
      "outputs": [],
      "source": []
    },
    {
      "cell_type": "markdown",
      "metadata": {
        "id": "-zt4ykQx6c3M"
      },
      "source": [
        "### Results with Glove embedding"
      ]
    },
    {
      "cell_type": "markdown",
      "metadata": {
        "id": "EglDR7E66ggf"
      },
      "source": [
        "For each voxel/model, calculate the R^2\n",
        "score and examine how many voxels are significantly associated with the\n",
        "information embedded in the word vectors,"
      ]
    },
    {
      "cell_type": "code",
      "execution_count": null,
      "metadata": {
        "id": "xO4dHyoR6gC1"
      },
      "outputs": [],
      "source": []
    },
    {
      "cell_type": "markdown",
      "metadata": {
        "id": "LhsdvrV-6oQ6"
      },
      "source": [
        "Interpret how well those voxels are predicted"
      ]
    },
    {
      "cell_type": "markdown",
      "metadata": {
        "id": "Z7YOQuZt67AW"
      },
      "source": [
        "---"
      ]
    },
    {
      "cell_type": "markdown",
      "metadata": {
        "id": "dxbWBjs86z_r"
      },
      "source": [
        "### Results with Contextualized embedding"
      ]
    },
    {
      "cell_type": "markdown",
      "metadata": {
        "id": "GpgmGGkY65sv"
      },
      "source": [
        "For each voxel/model, calculate the R^2\n",
        "score and examine how many voxels are significantly associated with the\n",
        "information embedded in the word vectors,"
      ]
    },
    {
      "cell_type": "code",
      "execution_count": null,
      "metadata": {
        "id": "un-kOHS96pkH"
      },
      "outputs": [],
      "source": []
    },
    {
      "cell_type": "markdown",
      "metadata": {
        "id": "vG5l12046zid"
      },
      "source": [
        "Interpret how well those voxels are predicted"
      ]
    },
    {
      "cell_type": "code",
      "execution_count": null,
      "metadata": {
        "id": "nRYDNWHM6zVM"
      },
      "outputs": [],
      "source": []
    }
  ],
  "metadata": {
    "colab": {
      "collapsed_sections": [
        "TAn4SjVfqTLp",
        "qG1Ig0tfxwo1",
        "dXiqBImh7JoS",
        "ludcVO921UER",
        "1xtgggdRxjXH",
        "X9mgvNuCxnX2",
        "ktUzBFP2uP0G",
        "IJS5RhIOxQvN",
        "wHqfLbD6x2OH",
        "7XzJfEDI8en0",
        "LC_HudVMzmjs",
        "I9IxkA5vzhJU",
        "4GvmVJNXzprq",
        "PEMycNjP0BZI",
        "H9LN24vx0HAv",
        "z18FaU1t3jYY",
        "Z1ifn9OF3gjo",
        "iFT7MILy5Gl7",
        "pIHTTOwr5aO1"
      ],
      "provenance": []
    },
    "kernelspec": {
      "display_name": "Python 3.8.14 64-bit",
      "language": "python",
      "name": "python3"
    },
    "language_info": {
      "codemirror_mode": {
        "name": "ipython",
        "version": 3
      },
      "file_extension": ".py",
      "mimetype": "text/x-python",
      "name": "python",
      "nbconvert_exporter": "python",
      "pygments_lexer": "ipython3",
      "version": "3.8.14"
    },
    "vscode": {
      "interpreter": {
        "hash": "4ccc8470e40fb28e26d8876b410d9a2bdd6ba73298a01e1bd4f47378d328ceb7"
      }
    }
  },
  "nbformat": 4,
  "nbformat_minor": 0
}
